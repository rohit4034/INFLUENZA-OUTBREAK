{
 "cells": [
  {
   "cell_type": "code",
   "execution_count": 3,
   "id": "73941941",
   "metadata": {},
   "outputs": [],
   "source": [
    "import scipy.io\n",
    "import pandas as pd\n",
    "import scipy.sparse\n",
    "import numpy as np\n",
    "import pandas as pd"
   ]
  },
  {
   "cell_type": "markdown",
   "id": "3826cbca",
   "metadata": {},
   "source": [
    "# Given :\n",
    "* there will be 75840 rows in our datasets\n",
    "* 525 columns \n",
    "* task is of classification\n",
    "\n",
    "**Goal** : By identifying influenza-related tweets, the goal is to forecast the spatiotemporal (relating to space-time) patterns of influenza outbreaks for different locations and dates.\n",
    "\n",
    "\n",
    "**Given**:\n",
    "* task is to predict whether or not influenza outbreak on the next date.\n",
    "* More specifically, for influenza activity, there are four levels of flu activities from minimal to high according to CDC Flu Activity Map.\n",
    "\n",
    "**Predict**: we have to predict one or zero\n",
    "\n",
    "*The output is the occurrence of influenza outbreak for the specific state in the next week, which is zero if no event in the next week; or one, otherwise.**"
   ]
  },
  {
   "cell_type": "markdown",
   "id": "50bda7df",
   "metadata": {},
   "source": [
    "# Reading Data in Mat format"
   ]
  },
  {
   "cell_type": "code",
   "execution_count": 6,
   "id": "8453daf9",
   "metadata": {},
   "outputs": [
    {
     "name": "stdout",
     "output_type": "stream",
     "text": [
      "1095\n",
      "1095\n",
      "1095\n",
      "1095\n",
      "1095\n",
      "1095\n",
      "1095\n",
      "1095\n",
      "1095\n",
      "1095\n",
      "1095\n",
      "1095\n",
      "1095\n",
      "1095\n",
      "1095\n",
      "1095\n",
      "1095\n",
      "1095\n",
      "1095\n",
      "1095\n",
      "1095\n",
      "1095\n",
      "1095\n",
      "1095\n",
      "1095\n",
      "1095\n",
      "1095\n",
      "1095\n",
      "1095\n",
      "1095\n",
      "1095\n",
      "1095\n",
      "1095\n",
      "1095\n",
      "1095\n",
      "1095\n",
      "1095\n",
      "1095\n",
      "1095\n",
      "1095\n",
      "1095\n",
      "1095\n",
      "1095\n",
      "1095\n",
      "1095\n",
      "1095\n",
      "1095\n",
      "1095\n"
     ]
    }
   ],
   "source": [
    "mat = scipy.io.loadmat(\"influenza_outbreak_dataset.mat\")\n",
    "for i in range(48):\n",
    "    print(len(mat['flu_X_tr'][0][i].todense()))"
   ]
  },
  {
   "cell_type": "markdown",
   "id": "47815664",
   "metadata": {},
   "source": [
    "# Total Number of Attributes"
   ]
  },
  {
   "cell_type": "code",
   "execution_count": 7,
   "id": "918d65cd",
   "metadata": {},
   "outputs": [
    {
     "data": {
      "text/plain": [
       "['__header__',\n",
       " '__version__',\n",
       " '__globals__',\n",
       " 'flu_X_tr',\n",
       " 'flu_Y_tr',\n",
       " 'flu_X_te',\n",
       " 'flu_Y_te',\n",
       " 'flu_locs',\n",
       " 'flu_keywords']"
      ]
     },
     "execution_count": 7,
     "metadata": {},
     "output_type": "execute_result"
    }
   ],
   "source": [
    "attributes = []\n",
    "for i in  mat:\n",
    "    attributes.append(i)\n",
    "attributes"
   ]
  },
  {
   "cell_type": "markdown",
   "id": "d5fd6327",
   "metadata": {},
   "source": [
    "# Training Data "
   ]
  },
  {
   "cell_type": "code",
   "execution_count": 8,
   "id": "e785fcb1",
   "metadata": {},
   "outputs": [
    {
     "name": "stdout",
     "output_type": "stream",
     "text": [
      "X_train : shape : (52560, 545)\n",
      "Y_train : shape : (52560, 1)\n"
     ]
    }
   ],
   "source": [
    "X_training = []\n",
    "for i in range(48):\n",
    "    X_training.append(mat['flu_X_tr'][0][i].todense())\n",
    "    \n",
    "X_training = np.array(X_training)\n",
    "X_training = X_training.reshape(X_training.shape[0]*X_training.shape[1],X_training.shape[2])\n",
    "X_train = pd.DataFrame(X_training)\n",
    "\n",
    "\n",
    "'''               *****************************************************************************'''\n",
    "\n",
    "training =[]\n",
    "for i in range(len(mat['flu_Y_tr'][0])):\n",
    "    training.append(mat['flu_Y_tr'][0][i])\n",
    "\n",
    "training = np.array(training)\n",
    "training = training.reshape(-1,1)\n",
    "Y_train = pd.DataFrame(training)\n",
    "\n",
    "print(\"X_train : shape : \"+ str(X_train.shape))\n",
    "print(\"Y_train : shape : \"+ str(Y_train.shape))"
   ]
  },
  {
   "cell_type": "markdown",
   "id": "c6b1e6bb",
   "metadata": {},
   "source": [
    "# Testing"
   ]
  },
  {
   "cell_type": "code",
   "execution_count": 9,
   "id": "9789775c",
   "metadata": {},
   "outputs": [
    {
     "name": "stdout",
     "output_type": "stream",
     "text": [
      "X_test : shape : (23280, 545)\n",
      "Y_test : shape : (23280, 1)\n"
     ]
    }
   ],
   "source": [
    "X_testing = []\n",
    "\n",
    "for i in range(len(mat['flu_X_te'][0])):\n",
    "    X_testing.append(mat['flu_X_te'][0][i].todense())\n",
    "    \n",
    "X_testing = np.array(X_testing)\n",
    "X_testing= X_testing.reshape(X_testing.shape[0]*X_testing.shape[1],X_testing.shape[2])\n",
    "X_test = pd.DataFrame(X_testing)\n",
    "\n",
    "\n",
    "'''***********************************************************************************'''\n",
    "\n",
    "testing=[]\n",
    "for i in range(len(mat['flu_Y_te'][0])):\n",
    "    testing.append(mat['flu_Y_te'][0][i])\n",
    "\n",
    "testing = np.array(testing)\n",
    "testing = testing.reshape(-1,1)\n",
    "Y_test = pd.DataFrame(testing)\n",
    "Y_train = pd.DataFrame(training)\n",
    "\n",
    "print(\"X_test : shape : \"+ str(X_test.shape))\n",
    "print(\"Y_test : shape : \"+ str(Y_test.shape))"
   ]
  },
  {
   "cell_type": "markdown",
   "id": "73979b46",
   "metadata": {},
   "source": [
    "# Location"
   ]
  },
  {
   "cell_type": "code",
   "execution_count": 10,
   "id": "dd7a33ad",
   "metadata": {},
   "outputs": [],
   "source": [
    "location=[]\n",
    "for i in range(len(mat['flu_locs'][0])):\n",
    "    location.append(mat['flu_locs'][0][i][0])\n"
   ]
  },
  {
   "cell_type": "markdown",
   "id": "dc4e2eed",
   "metadata": {},
   "source": [
    "# Keywords Used "
   ]
  },
  {
   "cell_type": "code",
   "execution_count": 11,
   "id": "9ed4b91c",
   "metadata": {},
   "outputs": [
    {
     "data": {
      "text/plain": [
       "525"
      ]
     },
     "execution_count": 11,
     "metadata": {},
     "output_type": "execute_result"
    }
   ],
   "source": [
    "keyword=[]\n",
    "for i in range(len(mat['flu_keywords'][0])):\n",
    "    keyword.append(mat['flu_keywords'][0][i][0])\n",
    "len(keyword)"
   ]
  },
  {
   "cell_type": "code",
   "execution_count": 12,
   "id": "cec71247",
   "metadata": {},
   "outputs": [
    {
     "data": {
      "text/html": [
       "<div>\n",
       "<style scoped>\n",
       "    .dataframe tbody tr th:only-of-type {\n",
       "        vertical-align: middle;\n",
       "    }\n",
       "\n",
       "    .dataframe tbody tr th {\n",
       "        vertical-align: top;\n",
       "    }\n",
       "\n",
       "    .dataframe thead th {\n",
       "        text-align: right;\n",
       "    }\n",
       "</style>\n",
       "<table border=\"1\" class=\"dataframe\">\n",
       "  <thead>\n",
       "    <tr style=\"text-align: right;\">\n",
       "      <th></th>\n",
       "      <th>0</th>\n",
       "      <th>1</th>\n",
       "      <th>2</th>\n",
       "      <th>3</th>\n",
       "      <th>4</th>\n",
       "      <th>5</th>\n",
       "      <th>6</th>\n",
       "      <th>7</th>\n",
       "      <th>8</th>\n",
       "      <th>9</th>\n",
       "      <th>...</th>\n",
       "      <th>535</th>\n",
       "      <th>536</th>\n",
       "      <th>537</th>\n",
       "      <th>538</th>\n",
       "      <th>539</th>\n",
       "      <th>540</th>\n",
       "      <th>541</th>\n",
       "      <th>542</th>\n",
       "      <th>543</th>\n",
       "      <th>544</th>\n",
       "    </tr>\n",
       "  </thead>\n",
       "  <tbody>\n",
       "    <tr>\n",
       "      <th>0</th>\n",
       "      <td>0.0</td>\n",
       "      <td>0.0</td>\n",
       "      <td>0.0</td>\n",
       "      <td>0.0</td>\n",
       "      <td>0.0</td>\n",
       "      <td>0.0</td>\n",
       "      <td>0.0</td>\n",
       "      <td>0.0</td>\n",
       "      <td>0.0</td>\n",
       "      <td>1.0</td>\n",
       "      <td>...</td>\n",
       "      <td>0.0</td>\n",
       "      <td>0.0</td>\n",
       "      <td>0.0</td>\n",
       "      <td>0.0</td>\n",
       "      <td>0.0</td>\n",
       "      <td>0.0</td>\n",
       "      <td>0.0</td>\n",
       "      <td>0.0</td>\n",
       "      <td>0.0</td>\n",
       "      <td>0.0</td>\n",
       "    </tr>\n",
       "    <tr>\n",
       "      <th>1</th>\n",
       "      <td>0.0</td>\n",
       "      <td>0.0</td>\n",
       "      <td>0.0</td>\n",
       "      <td>0.0</td>\n",
       "      <td>0.0</td>\n",
       "      <td>0.0</td>\n",
       "      <td>0.0</td>\n",
       "      <td>0.0</td>\n",
       "      <td>0.0</td>\n",
       "      <td>0.0</td>\n",
       "      <td>...</td>\n",
       "      <td>0.0</td>\n",
       "      <td>0.0</td>\n",
       "      <td>0.0</td>\n",
       "      <td>0.0</td>\n",
       "      <td>0.0</td>\n",
       "      <td>0.0</td>\n",
       "      <td>0.0</td>\n",
       "      <td>0.0</td>\n",
       "      <td>0.0</td>\n",
       "      <td>0.0</td>\n",
       "    </tr>\n",
       "    <tr>\n",
       "      <th>2</th>\n",
       "      <td>0.0</td>\n",
       "      <td>0.0</td>\n",
       "      <td>0.0</td>\n",
       "      <td>0.0</td>\n",
       "      <td>0.0</td>\n",
       "      <td>0.0</td>\n",
       "      <td>0.0</td>\n",
       "      <td>0.0</td>\n",
       "      <td>0.0</td>\n",
       "      <td>0.0</td>\n",
       "      <td>...</td>\n",
       "      <td>0.0</td>\n",
       "      <td>0.0</td>\n",
       "      <td>0.0</td>\n",
       "      <td>0.0</td>\n",
       "      <td>0.0</td>\n",
       "      <td>0.0</td>\n",
       "      <td>0.0</td>\n",
       "      <td>0.0</td>\n",
       "      <td>0.0</td>\n",
       "      <td>0.0</td>\n",
       "    </tr>\n",
       "    <tr>\n",
       "      <th>3</th>\n",
       "      <td>0.0</td>\n",
       "      <td>0.0</td>\n",
       "      <td>0.0</td>\n",
       "      <td>0.0</td>\n",
       "      <td>0.0</td>\n",
       "      <td>0.0</td>\n",
       "      <td>0.0</td>\n",
       "      <td>0.0</td>\n",
       "      <td>0.0</td>\n",
       "      <td>0.0</td>\n",
       "      <td>...</td>\n",
       "      <td>0.0</td>\n",
       "      <td>0.0</td>\n",
       "      <td>0.0</td>\n",
       "      <td>0.0</td>\n",
       "      <td>0.0</td>\n",
       "      <td>0.0</td>\n",
       "      <td>0.0</td>\n",
       "      <td>0.0</td>\n",
       "      <td>0.0</td>\n",
       "      <td>0.0</td>\n",
       "    </tr>\n",
       "    <tr>\n",
       "      <th>4</th>\n",
       "      <td>0.0</td>\n",
       "      <td>0.0</td>\n",
       "      <td>0.0</td>\n",
       "      <td>0.0</td>\n",
       "      <td>0.0</td>\n",
       "      <td>0.0</td>\n",
       "      <td>0.0</td>\n",
       "      <td>0.0</td>\n",
       "      <td>0.0</td>\n",
       "      <td>0.0</td>\n",
       "      <td>...</td>\n",
       "      <td>0.0</td>\n",
       "      <td>0.0</td>\n",
       "      <td>0.0</td>\n",
       "      <td>0.0</td>\n",
       "      <td>0.0</td>\n",
       "      <td>0.0</td>\n",
       "      <td>0.0</td>\n",
       "      <td>0.0</td>\n",
       "      <td>0.0</td>\n",
       "      <td>0.0</td>\n",
       "    </tr>\n",
       "    <tr>\n",
       "      <th>...</th>\n",
       "      <td>...</td>\n",
       "      <td>...</td>\n",
       "      <td>...</td>\n",
       "      <td>...</td>\n",
       "      <td>...</td>\n",
       "      <td>...</td>\n",
       "      <td>...</td>\n",
       "      <td>...</td>\n",
       "      <td>...</td>\n",
       "      <td>...</td>\n",
       "      <td>...</td>\n",
       "      <td>...</td>\n",
       "      <td>...</td>\n",
       "      <td>...</td>\n",
       "      <td>...</td>\n",
       "      <td>...</td>\n",
       "      <td>...</td>\n",
       "      <td>...</td>\n",
       "      <td>...</td>\n",
       "      <td>...</td>\n",
       "      <td>...</td>\n",
       "    </tr>\n",
       "    <tr>\n",
       "      <th>52555</th>\n",
       "      <td>1.0</td>\n",
       "      <td>1.0</td>\n",
       "      <td>1.0</td>\n",
       "      <td>1.0</td>\n",
       "      <td>1.0</td>\n",
       "      <td>1.0</td>\n",
       "      <td>1.0</td>\n",
       "      <td>1.0</td>\n",
       "      <td>1.0</td>\n",
       "      <td>1.0</td>\n",
       "      <td>...</td>\n",
       "      <td>0.0</td>\n",
       "      <td>0.0</td>\n",
       "      <td>0.0</td>\n",
       "      <td>0.0</td>\n",
       "      <td>0.0</td>\n",
       "      <td>0.0</td>\n",
       "      <td>0.0</td>\n",
       "      <td>0.0</td>\n",
       "      <td>0.0</td>\n",
       "      <td>0.0</td>\n",
       "    </tr>\n",
       "    <tr>\n",
       "      <th>52556</th>\n",
       "      <td>1.0</td>\n",
       "      <td>1.0</td>\n",
       "      <td>1.0</td>\n",
       "      <td>2.0</td>\n",
       "      <td>2.0</td>\n",
       "      <td>2.0</td>\n",
       "      <td>2.0</td>\n",
       "      <td>2.0</td>\n",
       "      <td>2.0</td>\n",
       "      <td>2.0</td>\n",
       "      <td>...</td>\n",
       "      <td>0.0</td>\n",
       "      <td>0.0</td>\n",
       "      <td>0.0</td>\n",
       "      <td>0.0</td>\n",
       "      <td>1.0</td>\n",
       "      <td>0.0</td>\n",
       "      <td>0.0</td>\n",
       "      <td>0.0</td>\n",
       "      <td>1.0</td>\n",
       "      <td>0.0</td>\n",
       "    </tr>\n",
       "    <tr>\n",
       "      <th>52557</th>\n",
       "      <td>0.0</td>\n",
       "      <td>0.0</td>\n",
       "      <td>0.0</td>\n",
       "      <td>0.0</td>\n",
       "      <td>0.0</td>\n",
       "      <td>0.0</td>\n",
       "      <td>0.0</td>\n",
       "      <td>0.0</td>\n",
       "      <td>0.0</td>\n",
       "      <td>0.0</td>\n",
       "      <td>...</td>\n",
       "      <td>0.0</td>\n",
       "      <td>0.0</td>\n",
       "      <td>0.0</td>\n",
       "      <td>0.0</td>\n",
       "      <td>0.0</td>\n",
       "      <td>0.0</td>\n",
       "      <td>0.0</td>\n",
       "      <td>0.0</td>\n",
       "      <td>0.0</td>\n",
       "      <td>0.0</td>\n",
       "    </tr>\n",
       "    <tr>\n",
       "      <th>52558</th>\n",
       "      <td>0.0</td>\n",
       "      <td>0.0</td>\n",
       "      <td>0.0</td>\n",
       "      <td>0.0</td>\n",
       "      <td>0.0</td>\n",
       "      <td>0.0</td>\n",
       "      <td>0.0</td>\n",
       "      <td>0.0</td>\n",
       "      <td>1.0</td>\n",
       "      <td>1.0</td>\n",
       "      <td>...</td>\n",
       "      <td>0.0</td>\n",
       "      <td>0.0</td>\n",
       "      <td>0.0</td>\n",
       "      <td>0.0</td>\n",
       "      <td>0.0</td>\n",
       "      <td>0.0</td>\n",
       "      <td>0.0</td>\n",
       "      <td>0.0</td>\n",
       "      <td>0.0</td>\n",
       "      <td>0.0</td>\n",
       "    </tr>\n",
       "    <tr>\n",
       "      <th>52559</th>\n",
       "      <td>0.0</td>\n",
       "      <td>0.0</td>\n",
       "      <td>0.0</td>\n",
       "      <td>0.0</td>\n",
       "      <td>0.0</td>\n",
       "      <td>0.0</td>\n",
       "      <td>0.0</td>\n",
       "      <td>0.0</td>\n",
       "      <td>0.0</td>\n",
       "      <td>0.0</td>\n",
       "      <td>...</td>\n",
       "      <td>0.0</td>\n",
       "      <td>0.0</td>\n",
       "      <td>0.0</td>\n",
       "      <td>0.0</td>\n",
       "      <td>0.0</td>\n",
       "      <td>0.0</td>\n",
       "      <td>0.0</td>\n",
       "      <td>0.0</td>\n",
       "      <td>0.0</td>\n",
       "      <td>0.0</td>\n",
       "    </tr>\n",
       "  </tbody>\n",
       "</table>\n",
       "<p>52560 rows × 545 columns</p>\n",
       "</div>"
      ],
      "text/plain": [
       "       0    1    2    3    4    5    6    7    8    9    ...  535  536  537  \\\n",
       "0      0.0  0.0  0.0  0.0  0.0  0.0  0.0  0.0  0.0  1.0  ...  0.0  0.0  0.0   \n",
       "1      0.0  0.0  0.0  0.0  0.0  0.0  0.0  0.0  0.0  0.0  ...  0.0  0.0  0.0   \n",
       "2      0.0  0.0  0.0  0.0  0.0  0.0  0.0  0.0  0.0  0.0  ...  0.0  0.0  0.0   \n",
       "3      0.0  0.0  0.0  0.0  0.0  0.0  0.0  0.0  0.0  0.0  ...  0.0  0.0  0.0   \n",
       "4      0.0  0.0  0.0  0.0  0.0  0.0  0.0  0.0  0.0  0.0  ...  0.0  0.0  0.0   \n",
       "...    ...  ...  ...  ...  ...  ...  ...  ...  ...  ...  ...  ...  ...  ...   \n",
       "52555  1.0  1.0  1.0  1.0  1.0  1.0  1.0  1.0  1.0  1.0  ...  0.0  0.0  0.0   \n",
       "52556  1.0  1.0  1.0  2.0  2.0  2.0  2.0  2.0  2.0  2.0  ...  0.0  0.0  0.0   \n",
       "52557  0.0  0.0  0.0  0.0  0.0  0.0  0.0  0.0  0.0  0.0  ...  0.0  0.0  0.0   \n",
       "52558  0.0  0.0  0.0  0.0  0.0  0.0  0.0  0.0  1.0  1.0  ...  0.0  0.0  0.0   \n",
       "52559  0.0  0.0  0.0  0.0  0.0  0.0  0.0  0.0  0.0  0.0  ...  0.0  0.0  0.0   \n",
       "\n",
       "       538  539  540  541  542  543  544  \n",
       "0      0.0  0.0  0.0  0.0  0.0  0.0  0.0  \n",
       "1      0.0  0.0  0.0  0.0  0.0  0.0  0.0  \n",
       "2      0.0  0.0  0.0  0.0  0.0  0.0  0.0  \n",
       "3      0.0  0.0  0.0  0.0  0.0  0.0  0.0  \n",
       "4      0.0  0.0  0.0  0.0  0.0  0.0  0.0  \n",
       "...    ...  ...  ...  ...  ...  ...  ...  \n",
       "52555  0.0  0.0  0.0  0.0  0.0  0.0  0.0  \n",
       "52556  0.0  1.0  0.0  0.0  0.0  1.0  0.0  \n",
       "52557  0.0  0.0  0.0  0.0  0.0  0.0  0.0  \n",
       "52558  0.0  0.0  0.0  0.0  0.0  0.0  0.0  \n",
       "52559  0.0  0.0  0.0  0.0  0.0  0.0  0.0  \n",
       "\n",
       "[52560 rows x 545 columns]"
      ]
     },
     "execution_count": 12,
     "metadata": {},
     "output_type": "execute_result"
    }
   ],
   "source": [
    "X_train"
   ]
  },
  {
   "cell_type": "markdown",
   "id": "1f29084f",
   "metadata": {},
   "source": [
    " # Working on X_train"
   ]
  },
  {
   "cell_type": "code",
   "execution_count": null,
   "id": "3f1fb45f",
   "metadata": {},
   "outputs": [],
   "source": [
    "X_train.shape \n"
   ]
  },
  {
   "cell_type": "code",
   "execution_count": null,
   "id": "c97cbcbf",
   "metadata": {},
   "outputs": [],
   "source": [
    "X_train.info()"
   ]
  },
  {
   "cell_type": "code",
   "execution_count": null,
   "id": "ea1237e9",
   "metadata": {},
   "outputs": [],
   "source": [
    "X_train.describe()"
   ]
  },
  {
   "cell_type": "code",
   "execution_count": null,
   "id": "a0ccbbbf",
   "metadata": {},
   "outputs": [],
   "source": []
  },
  {
   "cell_type": "markdown",
   "id": "f43fe6f1",
   "metadata": {},
   "source": [
    "# Applying PCA"
   ]
  },
  {
   "cell_type": "markdown",
   "id": "3e220f3b",
   "metadata": {},
   "source": [
    "## 1. Scaling the Data"
   ]
  },
  {
   "cell_type": "code",
   "execution_count": 15,
   "id": "d344b179",
   "metadata": {},
   "outputs": [],
   "source": [
    "from sklearn.preprocessing import StandardScaler\n",
    "\n",
    "scaler = StandardScaler()\n",
    "X_train = scaler.fit_transform(X_train)\n",
    "X_test =scaler.transform(X_test)\n"
   ]
  },
  {
   "cell_type": "code",
   "execution_count": 17,
   "id": "c66ee3f8",
   "metadata": {},
   "outputs": [
    {
     "data": {
      "text/plain": [
       "0.9999999999999921"
      ]
     },
     "execution_count": 17,
     "metadata": {},
     "output_type": "execute_result"
    }
   ],
   "source": [
    "X_train.std()"
   ]
  },
  {
   "cell_type": "code",
   "execution_count": 22,
   "id": "83c907f2",
   "metadata": {},
   "outputs": [],
   "source": [
    "from sklearn.decomposition import PCA\n",
    "\n",
    "pca = PCA(n_components=330)\n",
    "X_train_trf= pca.fit_transform(X_train)\n",
    "X_test_trf=pca.transform(X_test)\n"
   ]
  },
  {
   "cell_type": "code",
   "execution_count": 23,
   "id": "66803f5f",
   "metadata": {},
   "outputs": [
    {
     "data": {
      "text/plain": [
       "(52560, 330)"
      ]
     },
     "execution_count": 23,
     "metadata": {},
     "output_type": "execute_result"
    }
   ],
   "source": [
    "X_train.shape \n",
    "X_train_trf.shape"
   ]
  },
  {
   "cell_type": "code",
   "execution_count": 24,
   "id": "e6a625f5",
   "metadata": {},
   "outputs": [],
   "source": [
    "import numpy as np"
   ]
  },
  {
   "cell_type": "code",
   "execution_count": 25,
   "id": "66c2a68c",
   "metadata": {
    "scrolled": true
   },
   "outputs": [
    {
     "data": {
      "text/plain": [
       "1.6242865347466637"
      ]
     },
     "execution_count": 25,
     "metadata": {},
     "output_type": "execute_result"
    }
   ],
   "source": [
    "np.linalg.det(np.cov(X_train_trf,rowvar=0))"
   ]
  },
  {
   "cell_type": "markdown",
   "id": "064240c8",
   "metadata": {},
   "source": [
    "we are doing hit and trial so that we could get maximum number of feature "
   ]
  },
  {
   "cell_type": "markdown",
   "id": "bebc4006",
   "metadata": {},
   "source": [
    "# Applying algorithms "
   ]
  },
  {
   "cell_type": "markdown",
   "id": "b3ffd8ec",
   "metadata": {},
   "source": [
    "## 1. Logistic Regression"
   ]
  },
  {
   "cell_type": "code",
   "execution_count": 26,
   "id": "0d4487e9",
   "metadata": {},
   "outputs": [
    {
     "name": "stderr",
     "output_type": "stream",
     "text": [
      "C:\\Users\\91810\\anaconda\\lib\\site-packages\\sklearn\\utils\\validation.py:993: DataConversionWarning: A column-vector y was passed when a 1d array was expected. Please change the shape of y to (n_samples, ), for example using ravel().\n",
      "  y = column_or_1d(y, warn=True)\n"
     ]
    }
   ],
   "source": [
    "from sklearn.linear_model import LogisticRegression\n",
    "\n",
    "lr = LogisticRegression()\n",
    "lr.fit(X_train_trf,Y_train)\n",
    "y_pred = lr.predict(X_test_trf)"
   ]
  },
  {
   "cell_type": "code",
   "execution_count": null,
   "id": "d88f9217",
   "metadata": {},
   "outputs": [],
   "source": [
    "from sklearn.metrics import accuracy_score\n",
    "accuracy_score(y_pred,Y_test)"
   ]
  },
  {
   "cell_type": "markdown",
   "id": "824ff12c",
   "metadata": {},
   "source": [
    "## 2. K Nearest Neighbour "
   ]
  },
  {
   "cell_type": "code",
   "execution_count": 27,
   "id": "9f1ad3c1",
   "metadata": {},
   "outputs": [
    {
     "name": "stderr",
     "output_type": "stream",
     "text": [
      "C:\\Users\\91810\\anaconda\\lib\\site-packages\\sklearn\\neighbors\\_classification.py:198: DataConversionWarning: A column-vector y was passed when a 1d array was expected. Please change the shape of y to (n_samples,), for example using ravel().\n",
      "  return self._fit(X, y)\n"
     ]
    },
    {
     "ename": "NameError",
     "evalue": "name 'accuracy_score' is not defined",
     "output_type": "error",
     "traceback": [
      "\u001b[1;31m---------------------------------------------------------------------------\u001b[0m",
      "\u001b[1;31mNameError\u001b[0m                                 Traceback (most recent call last)",
      "Input \u001b[1;32mIn [27]\u001b[0m, in \u001b[0;36m<cell line: 7>\u001b[1;34m()\u001b[0m\n\u001b[0;32m      4\u001b[0m knn\u001b[38;5;241m.\u001b[39mfit(X_train_trf,Y_train)\n\u001b[0;32m      5\u001b[0m y_pred \u001b[38;5;241m=\u001b[39m knn\u001b[38;5;241m.\u001b[39mpredict(X_test_trf)\n\u001b[1;32m----> 7\u001b[0m \u001b[43maccuracy_score\u001b[49m(y_pred,Y_test)\n",
      "\u001b[1;31mNameError\u001b[0m: name 'accuracy_score' is not defined"
     ]
    }
   ],
   "source": [
    "from sklearn.neighbors import KNeighborsClassifier\n",
    "\n",
    "knn = KNeighborsClassifier()\n",
    "knn.fit(X_train_trf,Y_train)\n",
    "y_pred = knn.predict(X_test_trf)\n",
    "\n",
    "accuracy_score(y_pred,Y_test)"
   ]
  },
  {
   "cell_type": "markdown",
   "id": "7f8ecb93",
   "metadata": {},
   "source": [
    "# 3. Decision Tree"
   ]
  },
  {
   "cell_type": "code",
   "execution_count": null,
   "id": "f9b47a2a",
   "metadata": {},
   "outputs": [],
   "source": [
    "from sklearn.tree import DecisionTreeClassifier\n",
    "\n",
    "dt = DecisionTreeClassifier()\n",
    "dt.fit(X_train_trf,Y_train)\n",
    "y_pred = dt.predict(X_test_trf)\n"
   ]
  },
  {
   "cell_type": "code",
   "execution_count": null,
   "id": "de35f4a2",
   "metadata": {},
   "outputs": [],
   "source": [
    "accuracy_score(y_pred,Y_test)"
   ]
  },
  {
   "cell_type": "markdown",
   "id": "938a0f66",
   "metadata": {},
   "source": [
    "# 4. Support Vector Machine"
   ]
  },
  {
   "cell_type": "code",
   "execution_count": null,
   "id": "65ca555d",
   "metadata": {},
   "outputs": [
    {
     "name": "stderr",
     "output_type": "stream",
     "text": [
      "C:\\Users\\91810\\anaconda\\lib\\site-packages\\sklearn\\utils\\validation.py:993: DataConversionWarning: A column-vector y was passed when a 1d array was expected. Please change the shape of y to (n_samples, ), for example using ravel().\n",
      "  y = column_or_1d(y, warn=True)\n"
     ]
    }
   ],
   "source": [
    "from sklearn.svm import SVC\n",
    "\n",
    "svm = SVC()\n",
    "svm.fit(X_train_trf,Y_train)\n",
    "y_pred = svm.predict(X_test_trf)"
   ]
  },
  {
   "cell_type": "code",
   "execution_count": null,
   "id": "74884ec1",
   "metadata": {},
   "outputs": [],
   "source": [
    "accuracy_score(y_pred,Y_test)"
   ]
  },
  {
   "cell_type": "markdown",
   "id": "cddbf06e",
   "metadata": {},
   "source": [
    "# 5. Naive Bayes Classifier"
   ]
  },
  {
   "cell_type": "code",
   "execution_count": null,
   "id": "44f2caa0",
   "metadata": {},
   "outputs": [],
   "source": [
    "from sklearn.naive_bayes import GaussianNB\n",
    "\n",
    "gnb = GaussianNB()\n",
    "gnb.fit(X_train_trf,Y_train)\n",
    "gnb.predict(X_test_trf)\n",
    "\n",
    "accuracy_score(y_pred,Y_test)"
   ]
  },
  {
   "cell_type": "markdown",
   "id": "878970e5",
   "metadata": {},
   "source": [
    "# Calculating Posterior Probability"
   ]
  },
  {
   "cell_type": "code",
   "execution_count": null,
   "id": "b5bba6ff",
   "metadata": {},
   "outputs": [],
   "source": [
    "gnb.classes_ "
   ]
  },
  {
   "cell_type": "code",
   "execution_count": null,
   "id": "e5e3723f",
   "metadata": {},
   "outputs": [],
   "source": [
    "gnb.predict_proba(X_test_trf)"
   ]
  },
  {
   "cell_type": "code",
   "execution_count": null,
   "id": "553d5c41",
   "metadata": {},
   "outputs": [],
   "source": [
    "svm_zero=[]\n",
    "svm_one=[]\n",
    "\n",
    "gnb_zero=[]\n",
    "gnb_one=[]\n",
    "\n",
    "lr_zero=[]\n",
    "lr_one=[]\n",
    "\n",
    "knn_zero=[]\n",
    "knn_one=[]\n",
    "\n",
    "\n",
    "for i in range(23280):\n",
    "    svm_zero.append()\n",
    "    svm_one.append(i[1])"
   ]
  },
  {
   "cell_type": "code",
   "execution_count": null,
   "id": "501bcbf9",
   "metadata": {},
   "outputs": [],
   "source": [
    "svm.predict_proba()"
   ]
  },
  {
   "cell_type": "code",
   "execution_count": null,
   "id": "fcab8e90",
   "metadata": {},
   "outputs": [],
   "source": []
  },
  {
   "cell_type": "code",
   "execution_count": null,
   "id": "f9e4de1f",
   "metadata": {},
   "outputs": [],
   "source": []
  },
  {
   "cell_type": "code",
   "execution_count": null,
   "id": "dbcec31a",
   "metadata": {},
   "outputs": [],
   "source": []
  },
  {
   "cell_type": "code",
   "execution_count": null,
   "id": "46fcd7ee",
   "metadata": {},
   "outputs": [],
   "source": []
  },
  {
   "cell_type": "code",
   "execution_count": null,
   "id": "59a2eca0",
   "metadata": {},
   "outputs": [],
   "source": []
  }
 ],
 "metadata": {
  "kernelspec": {
   "display_name": "Python 3",
   "language": "python",
   "name": "python3"
  },
  "language_info": {
   "codemirror_mode": {
    "name": "ipython",
    "version": 3
   },
   "file_extension": ".py",
   "mimetype": "text/x-python",
   "name": "python",
   "nbconvert_exporter": "python",
   "pygments_lexer": "ipython3",
   "version": "3.9.7 (tags/v3.9.7:1016ef3, Aug 30 2021, 20:19:38) [MSC v.1929 64 bit (AMD64)]"
  },
  "vscode": {
   "interpreter": {
    "hash": "e37e08bf45ca2a2e857a085ad282b7368931f23126ab4969a56b18b2290cb7df"
   }
  }
 },
 "nbformat": 4,
 "nbformat_minor": 5
}
